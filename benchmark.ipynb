{
 "cells": [
  {
   "cell_type": "code",
   "execution_count": 1,
   "metadata": {},
   "outputs": [
    {
     "name": "stdout",
     "output_type": "stream",
     "text": [
      "['academicodec_hifi_16k_320d', 'academicodec_hifi_16k_320d_large_uni', 'academicodec_hifi_24k_320d', 'audiodec_24k_320d', 'dac_16k', 'dac_24k', 'dac_44k', 'encodec_24k_12bps', 'encodec_24k_1_5bps', 'encodec_24k_24bps', 'encodec_24k_3bps', 'encodec_24k_6bps', 'funcodec_en_libritts_16k_gr1nq32ds320', 'funcodec_en_libritts_16k_gr8nq32ds320', 'funcodec_en_libritts_16k_nq32ds320', 'funcodec_en_libritts_16k_nq32ds640', 'funcodec_zh_en_16k_nq32ds320', 'funcodec_zh_en_16k_nq32ds640', 'speech_tokenizer_16k']\n"
     ]
    }
   ],
   "source": [
    "from SoundCodec import codec\n",
    "import torchaudio\n",
    "\n",
    "# get all available codec\n",
    "print(codec.list_codec())"
   ]
  },
  {
   "cell_type": "code",
   "execution_count": null,
   "metadata": {},
   "outputs": [],
   "source": [
    "# for simplicity, we need to download huggingface models in advance "
   ]
  },
  {
   "cell_type": "code",
   "execution_count": 23,
   "metadata": {},
   "outputs": [
    {
     "name": "stdout",
     "output_type": "stream",
     "text": [
      "processing funcodec_zh_en_16k_nq32ds640\n",
      "resampled_waveform shape: (42562,)\n",
      "sound_unit shape: torch.Size([32, 67])\n",
      "635 tokens per second\n",
      "decoded_waveform shape: (42562,)\n"
     ]
    }
   ],
   "source": [
    "import glob\n",
    "\n",
    "sample_audio_dir = \"/storage08/zhanghaitong01/data/TTS-game/\"\n",
    "sample_audios = glob.glob(sample_audio_dir+\"/*/wavs/*.wav\")\n",
    " \n",
    "for codec_name in codec.list_codec()[18:19]:\n",
    "    for sample_audio in sample_audios[:1]:      \n",
    "        print(f\"processing {codec_name}\")\n",
    "        # load codec by name, use encodec as example\n",
    "        codecs = codec.load_codec(codec_name)\n",
    "\n",
    "        # load audio\n",
    "        waveform, sample_rate = torchaudio.load(sample_audio)\n",
    "        resampled_waveform = waveform.numpy()[-1]\n",
    "        data_item = {'audio': {'array': resampled_waveform,\n",
    "                            'sampling_rate': sample_rate}}\n",
    "        print(f\"resampled_waveform shape: {resampled_waveform.shape}\")\n",
    "        \n",
    "        # extract unit\n",
    "        sound_unit = codecs.extract_unit(data_item).unit\n",
    "        print(f\"sound_unit shape: {sound_unit.shape}\")\n",
    "        print(f\"{resampled_waveform.shape[0] // sound_unit.shape[1] } tokens per second\")\n",
    "        \n",
    "        # sound synthesis\n",
    "        decoded_waveform = codecs.synth(data_item, local_save=False)['audio']['array'].squeeze()\n",
    "        print(f\"decoded_waveform shape: {decoded_waveform.shape}\")"
   ]
  }
 ],
 "metadata": {
  "kernelspec": {
   "display_name": "llama",
   "language": "python",
   "name": "python3"
  },
  "language_info": {
   "codemirror_mode": {
    "name": "ipython",
    "version": 3
   },
   "file_extension": ".py",
   "mimetype": "text/x-python",
   "name": "python",
   "nbconvert_exporter": "python",
   "pygments_lexer": "ipython3",
   "version": "3.10.0"
  }
 },
 "nbformat": 4,
 "nbformat_minor": 2
}
